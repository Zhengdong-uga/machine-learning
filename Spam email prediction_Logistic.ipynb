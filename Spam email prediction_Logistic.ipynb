{
 "cells": [
  {
   "cell_type": "markdown",
   "id": "cd2f49d9",
   "metadata": {},
   "source": [
    "## Importing the dataset"
   ]
  },
  {
   "cell_type": "code",
   "execution_count": 1,
   "id": "91f04684",
   "metadata": {},
   "outputs": [],
   "source": [
    "import numpy as np\n",
    "import pandas as pd\n",
    "from sklearn.model_selection import train_test_split\n",
    "from sklearn.feature_extraction.text import TfidfVectorizer\n",
    "from sklearn.linear_model import LogisticRegression \n",
    "from sklearn.metrics import accuracy_score"
   ]
  },
  {
   "cell_type": "markdown",
   "id": "5dd534ec",
   "metadata": {},
   "source": [
    "## Data collection & Pre-processing"
   ]
  },
  {
   "cell_type": "code",
   "execution_count": 2,
   "id": "7e969810",
   "metadata": {},
   "outputs": [],
   "source": [
    "#Importing the csv data\n",
    "#The data is from Kaggle; The link:\n",
    "#https://www.kaggle.com/datasets/venky73/spam-mails-dataset\n",
    "raw_data = pd.read_csv(\"/Users/a1561035045/Desktop/DATA_full/spam_ham_dataset.csv\")"
   ]
  },
  {
   "cell_type": "code",
   "execution_count": 3,
   "id": "d5298624",
   "metadata": {},
   "outputs": [
    {
     "data": {
      "text/html": [
       "<div>\n",
       "<style scoped>\n",
       "    .dataframe tbody tr th:only-of-type {\n",
       "        vertical-align: middle;\n",
       "    }\n",
       "\n",
       "    .dataframe tbody tr th {\n",
       "        vertical-align: top;\n",
       "    }\n",
       "\n",
       "    .dataframe thead th {\n",
       "        text-align: right;\n",
       "    }\n",
       "</style>\n",
       "<table border=\"1\" class=\"dataframe\">\n",
       "  <thead>\n",
       "    <tr style=\"text-align: right;\">\n",
       "      <th></th>\n",
       "      <th>Unnamed: 0</th>\n",
       "      <th>label</th>\n",
       "      <th>text</th>\n",
       "      <th>label_num</th>\n",
       "    </tr>\n",
       "  </thead>\n",
       "  <tbody>\n",
       "    <tr>\n",
       "      <th>0</th>\n",
       "      <td>605</td>\n",
       "      <td>ham</td>\n",
       "      <td>Subject: enron methanol ; meter # : 988291\\r\\n...</td>\n",
       "      <td>0</td>\n",
       "    </tr>\n",
       "    <tr>\n",
       "      <th>1</th>\n",
       "      <td>2349</td>\n",
       "      <td>ham</td>\n",
       "      <td>Subject: hpl nom for january 9 , 2001\\r\\n( see...</td>\n",
       "      <td>0</td>\n",
       "    </tr>\n",
       "    <tr>\n",
       "      <th>2</th>\n",
       "      <td>3624</td>\n",
       "      <td>ham</td>\n",
       "      <td>Subject: neon retreat\\r\\nho ho ho , we ' re ar...</td>\n",
       "      <td>0</td>\n",
       "    </tr>\n",
       "    <tr>\n",
       "      <th>3</th>\n",
       "      <td>4685</td>\n",
       "      <td>spam</td>\n",
       "      <td>Subject: photoshop , windows , office . cheap ...</td>\n",
       "      <td>1</td>\n",
       "    </tr>\n",
       "    <tr>\n",
       "      <th>4</th>\n",
       "      <td>2030</td>\n",
       "      <td>ham</td>\n",
       "      <td>Subject: re : indian springs\\r\\nthis deal is t...</td>\n",
       "      <td>0</td>\n",
       "    </tr>\n",
       "  </tbody>\n",
       "</table>\n",
       "</div>"
      ],
      "text/plain": [
       "   Unnamed: 0 label                                               text  \\\n",
       "0         605   ham  Subject: enron methanol ; meter # : 988291\\r\\n...   \n",
       "1        2349   ham  Subject: hpl nom for january 9 , 2001\\r\\n( see...   \n",
       "2        3624   ham  Subject: neon retreat\\r\\nho ho ho , we ' re ar...   \n",
       "3        4685  spam  Subject: photoshop , windows , office . cheap ...   \n",
       "4        2030   ham  Subject: re : indian springs\\r\\nthis deal is t...   \n",
       "\n",
       "   label_num  \n",
       "0          0  \n",
       "1          0  \n",
       "2          0  \n",
       "3          1  \n",
       "4          0  "
      ]
     },
     "execution_count": 3,
     "metadata": {},
     "output_type": "execute_result"
    }
   ],
   "source": [
    "raw_data.head()"
   ]
  },
  {
   "cell_type": "code",
   "execution_count": 4,
   "id": "0ee8b4b7",
   "metadata": {},
   "outputs": [
    {
     "data": {
      "text/plain": [
       "Unnamed: 0  label  text   label_num\n",
       "False       False  False  False        5171\n",
       "dtype: int64"
      ]
     },
     "execution_count": 4,
     "metadata": {},
     "output_type": "execute_result"
    }
   ],
   "source": [
    "raw_data.isnull().value_counts()"
   ]
  },
  {
   "cell_type": "code",
   "execution_count": 5,
   "id": "c82dca46",
   "metadata": {},
   "outputs": [],
   "source": [
    "#replacing the null values to string(necessary or not)\n",
    "#where function to gater conditions\n",
    "data = raw_data.where((pd.notnull(raw_data)),'')"
   ]
  },
  {
   "cell_type": "code",
   "execution_count": 6,
   "id": "bfeac95d",
   "metadata": {},
   "outputs": [
    {
     "data": {
      "text/html": [
       "<div>\n",
       "<style scoped>\n",
       "    .dataframe tbody tr th:only-of-type {\n",
       "        vertical-align: middle;\n",
       "    }\n",
       "\n",
       "    .dataframe tbody tr th {\n",
       "        vertical-align: top;\n",
       "    }\n",
       "\n",
       "    .dataframe thead th {\n",
       "        text-align: right;\n",
       "    }\n",
       "</style>\n",
       "<table border=\"1\" class=\"dataframe\">\n",
       "  <thead>\n",
       "    <tr style=\"text-align: right;\">\n",
       "      <th></th>\n",
       "      <th>Unnamed: 0</th>\n",
       "      <th>label</th>\n",
       "      <th>text</th>\n",
       "      <th>label_num</th>\n",
       "    </tr>\n",
       "  </thead>\n",
       "  <tbody>\n",
       "    <tr>\n",
       "      <th>0</th>\n",
       "      <td>605</td>\n",
       "      <td>ham</td>\n",
       "      <td>Subject: enron methanol ; meter # : 988291\\r\\n...</td>\n",
       "      <td>0</td>\n",
       "    </tr>\n",
       "    <tr>\n",
       "      <th>1</th>\n",
       "      <td>2349</td>\n",
       "      <td>ham</td>\n",
       "      <td>Subject: hpl nom for january 9 , 2001\\r\\n( see...</td>\n",
       "      <td>0</td>\n",
       "    </tr>\n",
       "    <tr>\n",
       "      <th>2</th>\n",
       "      <td>3624</td>\n",
       "      <td>ham</td>\n",
       "      <td>Subject: neon retreat\\r\\nho ho ho , we ' re ar...</td>\n",
       "      <td>0</td>\n",
       "    </tr>\n",
       "    <tr>\n",
       "      <th>3</th>\n",
       "      <td>4685</td>\n",
       "      <td>spam</td>\n",
       "      <td>Subject: photoshop , windows , office . cheap ...</td>\n",
       "      <td>1</td>\n",
       "    </tr>\n",
       "    <tr>\n",
       "      <th>4</th>\n",
       "      <td>2030</td>\n",
       "      <td>ham</td>\n",
       "      <td>Subject: re : indian springs\\r\\nthis deal is t...</td>\n",
       "      <td>0</td>\n",
       "    </tr>\n",
       "    <tr>\n",
       "      <th>...</th>\n",
       "      <td>...</td>\n",
       "      <td>...</td>\n",
       "      <td>...</td>\n",
       "      <td>...</td>\n",
       "    </tr>\n",
       "    <tr>\n",
       "      <th>5166</th>\n",
       "      <td>1518</td>\n",
       "      <td>ham</td>\n",
       "      <td>Subject: put the 10 on the ft\\r\\nthe transport...</td>\n",
       "      <td>0</td>\n",
       "    </tr>\n",
       "    <tr>\n",
       "      <th>5167</th>\n",
       "      <td>404</td>\n",
       "      <td>ham</td>\n",
       "      <td>Subject: 3 / 4 / 2000 and following noms\\r\\nhp...</td>\n",
       "      <td>0</td>\n",
       "    </tr>\n",
       "    <tr>\n",
       "      <th>5168</th>\n",
       "      <td>2933</td>\n",
       "      <td>ham</td>\n",
       "      <td>Subject: calpine daily gas nomination\\r\\n&gt;\\r\\n...</td>\n",
       "      <td>0</td>\n",
       "    </tr>\n",
       "    <tr>\n",
       "      <th>5169</th>\n",
       "      <td>1409</td>\n",
       "      <td>ham</td>\n",
       "      <td>Subject: industrial worksheets for august 2000...</td>\n",
       "      <td>0</td>\n",
       "    </tr>\n",
       "    <tr>\n",
       "      <th>5170</th>\n",
       "      <td>4807</td>\n",
       "      <td>spam</td>\n",
       "      <td>Subject: important online banking alert\\r\\ndea...</td>\n",
       "      <td>1</td>\n",
       "    </tr>\n",
       "  </tbody>\n",
       "</table>\n",
       "<p>5171 rows × 4 columns</p>\n",
       "</div>"
      ],
      "text/plain": [
       "      Unnamed: 0 label                                               text  \\\n",
       "0            605   ham  Subject: enron methanol ; meter # : 988291\\r\\n...   \n",
       "1           2349   ham  Subject: hpl nom for january 9 , 2001\\r\\n( see...   \n",
       "2           3624   ham  Subject: neon retreat\\r\\nho ho ho , we ' re ar...   \n",
       "3           4685  spam  Subject: photoshop , windows , office . cheap ...   \n",
       "4           2030   ham  Subject: re : indian springs\\r\\nthis deal is t...   \n",
       "...          ...   ...                                                ...   \n",
       "5166        1518   ham  Subject: put the 10 on the ft\\r\\nthe transport...   \n",
       "5167         404   ham  Subject: 3 / 4 / 2000 and following noms\\r\\nhp...   \n",
       "5168        2933   ham  Subject: calpine daily gas nomination\\r\\n>\\r\\n...   \n",
       "5169        1409   ham  Subject: industrial worksheets for august 2000...   \n",
       "5170        4807  spam  Subject: important online banking alert\\r\\ndea...   \n",
       "\n",
       "      label_num  \n",
       "0             0  \n",
       "1             0  \n",
       "2             0  \n",
       "3             1  \n",
       "4             0  \n",
       "...         ...  \n",
       "5166          0  \n",
       "5167          0  \n",
       "5168          0  \n",
       "5169          0  \n",
       "5170          1  \n",
       "\n",
       "[5171 rows x 4 columns]"
      ]
     },
     "execution_count": 6,
     "metadata": {},
     "output_type": "execute_result"
    }
   ],
   "source": [
    "data"
   ]
  },
  {
   "cell_type": "code",
   "execution_count": 7,
   "id": "24e40131",
   "metadata": {},
   "outputs": [],
   "source": [
    "#remember spam mail=1; and ham mail=0;"
   ]
  },
  {
   "cell_type": "code",
   "execution_count": 8,
   "id": "fb8c4d34",
   "metadata": {},
   "outputs": [],
   "source": [
    "#separate the dataframe to X=text and Y=label_num\n",
    "X = data['text']\n",
    "Y = data['label_num']"
   ]
  },
  {
   "cell_type": "code",
   "execution_count": 9,
   "id": "c6fb1188",
   "metadata": {},
   "outputs": [
    {
     "name": "stdout",
     "output_type": "stream",
     "text": [
      "0       Subject: enron methanol ; meter # : 988291\\r\\n...\n",
      "1       Subject: hpl nom for january 9 , 2001\\r\\n( see...\n",
      "2       Subject: neon retreat\\r\\nho ho ho , we ' re ar...\n",
      "3       Subject: photoshop , windows , office . cheap ...\n",
      "4       Subject: re : indian springs\\r\\nthis deal is t...\n",
      "                              ...                        \n",
      "5166    Subject: put the 10 on the ft\\r\\nthe transport...\n",
      "5167    Subject: 3 / 4 / 2000 and following noms\\r\\nhp...\n",
      "5168    Subject: calpine daily gas nomination\\r\\n>\\r\\n...\n",
      "5169    Subject: industrial worksheets for august 2000...\n",
      "5170    Subject: important online banking alert\\r\\ndea...\n",
      "Name: text, Length: 5171, dtype: object\n"
     ]
    }
   ],
   "source": [
    "print(X)"
   ]
  },
  {
   "cell_type": "code",
   "execution_count": 10,
   "id": "95ce0138",
   "metadata": {},
   "outputs": [
    {
     "name": "stdout",
     "output_type": "stream",
     "text": [
      "0       0\n",
      "1       0\n",
      "2       0\n",
      "3       1\n",
      "4       0\n",
      "       ..\n",
      "5166    0\n",
      "5167    0\n",
      "5168    0\n",
      "5169    0\n",
      "5170    1\n",
      "Name: label_num, Length: 5171, dtype: int64\n"
     ]
    }
   ],
   "source": [
    "print(Y)\n",
    "#the Y's dtype is already the int64, we don't need to transform it\n",
    "#however, if the dtype is not int64, here is the way to transform the Y_train and Y_test\n",
    "# Y_train = Y_train.astype('int')\n",
    "# Y_test = Y_test.astype('int')"
   ]
  },
  {
   "cell_type": "markdown",
   "id": "e718283f",
   "metadata": {},
   "source": [
    "## Spliting data in to training and testing"
   ]
  },
  {
   "cell_type": "code",
   "execution_count": 11,
   "id": "7129cca8",
   "metadata": {},
   "outputs": [],
   "source": [
    "#train_test_split\n",
    "X_train, X_test, Y_train, Y_test = train_test_split(X, Y, test_size=0.2, random_state=42)"
   ]
  },
  {
   "cell_type": "code",
   "execution_count": 12,
   "id": "5444c1de",
   "metadata": {},
   "outputs": [
    {
     "name": "stdout",
     "output_type": "stream",
     "text": [
      "(5171,)\n",
      "(4136,)\n",
      "(1035,)\n"
     ]
    }
   ],
   "source": [
    "print(X.shape)\n",
    "print(X_train.shape)\n",
    "print(X_test.shape)"
   ]
  },
  {
   "cell_type": "markdown",
   "id": "fadaf916",
   "metadata": {},
   "source": [
    "**Feature extraction**"
   ]
  },
  {
   "cell_type": "code",
   "execution_count": 13,
   "id": "170e6060",
   "metadata": {},
   "outputs": [],
   "source": [
    "#transform the text data to feature vectors that can be used in the Logistic regression\n",
    "feature_extraction = TfidfVectorizer(min_df = 1, stop_words = 'english', lowercase = 'True')"
   ]
  },
  {
   "cell_type": "code",
   "execution_count": 14,
   "id": "249ad67d",
   "metadata": {},
   "outputs": [],
   "source": [
    "X_train_features = feature_extraction.fit_transform(X_train)\n",
    "X_test_features = feature_extraction.transform(X_test)"
   ]
  },
  {
   "cell_type": "code",
   "execution_count": 26,
   "id": "41f1ab45",
   "metadata": {},
   "outputs": [
    {
     "name": "stdout",
     "output_type": "stream",
     "text": [
      "5132    0\n",
      "2067    1\n",
      "4716    0\n",
      "4710    0\n",
      "2268    1\n",
      "       ..\n",
      "4426    0\n",
      "466     0\n",
      "3092    1\n",
      "3772    0\n",
      "860     0\n",
      "Name: label_num, Length: 4136, dtype: int64\n"
     ]
    }
   ],
   "source": [
    "print(Y_train)"
   ]
  },
  {
   "cell_type": "code",
   "execution_count": null,
   "id": "6bd4026f",
   "metadata": {},
   "outputs": [],
   "source": [
    "print(X_train)\n",
    "print(X_train_features)"
   ]
  },
  {
   "cell_type": "markdown",
   "id": "79d22f6d",
   "metadata": {},
   "source": [
    "## Training the model"
   ]
  },
  {
   "cell_type": "code",
   "execution_count": 25,
   "id": "fde3ab16",
   "metadata": {},
   "outputs": [],
   "source": [
    "model = LogisticRegression()"
   ]
  },
  {
   "cell_type": "code",
   "execution_count": 27,
   "id": "da70e0e4",
   "metadata": {},
   "outputs": [
    {
     "data": {
      "text/plain": [
       "LogisticRegression()"
      ]
     },
     "execution_count": 27,
     "metadata": {},
     "output_type": "execute_result"
    }
   ],
   "source": [
    "model.fit(X_train_features, Y_train)"
   ]
  },
  {
   "cell_type": "markdown",
   "id": "cef0068f",
   "metadata": {},
   "source": [
    "**Evaluating the model**"
   ]
  },
  {
   "cell_type": "code",
   "execution_count": 28,
   "id": "ba2da0bc",
   "metadata": {},
   "outputs": [],
   "source": [
    "#prediction on the trained model\n",
    "prediction_training = model.predict(X_train_features)\n",
    "accuracy_training = accuracy_score(Y_train, prediction_training)"
   ]
  },
  {
   "cell_type": "code",
   "execution_count": 33,
   "id": "795d7101",
   "metadata": {},
   "outputs": [
    {
     "name": "stdout",
     "output_type": "stream",
     "text": [
      "accuracy on training data: 0.9961315280464217\n"
     ]
    }
   ],
   "source": [
    "print('accuracy on training data:', accuracy_training)\n",
    "#accuracy > 80 should be a good model"
   ]
  },
  {
   "cell_type": "markdown",
   "id": "03ccb5ed",
   "metadata": {},
   "source": [
    "**Evaluating the test data**"
   ]
  },
  {
   "cell_type": "code",
   "execution_count": 35,
   "id": "72d9f636",
   "metadata": {},
   "outputs": [],
   "source": [
    "prediction_testing = model.predict(X_test_features)\n",
    "accuracy_testing = accuracy_score(Y_test, prediction_testing)"
   ]
  },
  {
   "cell_type": "code",
   "execution_count": 36,
   "id": "a942e07a",
   "metadata": {},
   "outputs": [
    {
     "name": "stdout",
     "output_type": "stream",
     "text": [
      "accuracy on test data: 0.9903381642512077\n"
     ]
    }
   ],
   "source": [
    "print('accuracy on test data:', accuracy_testing)"
   ]
  },
  {
   "cell_type": "markdown",
   "id": "b0a6fb66",
   "metadata": {},
   "source": [
    "## Building a predictive system"
   ]
  },
  {
   "cell_type": "code",
   "execution_count": 46,
   "id": "43433ea9",
   "metadata": {},
   "outputs": [],
   "source": [
    "#input mail content\n",
    "#Go until jurong point, crazy.. Available only in bugis n great world la e buffet... Cine there got amore wat...\n",
    "input_mail1 = [\"FreeMsg Hey there darling it's been 3 week's now and no word back! I'd like some fun you up for it still? Tb ok! XxX std chgs to send, ¬£1.50 to rcv\"]"
   ]
  },
  {
   "cell_type": "code",
   "execution_count": 54,
   "id": "2b4b1d5e",
   "metadata": {},
   "outputs": [],
   "source": [
    "input_mail2 = [\"AI PROMPTER: AI tools like ChatGPT are only as useful as the humans asking them questions, so some companies have begun to hire “prompt engineers” for extracting the right info from chatbots. Finally, a job AI can never replace.\"]"
   ]
  },
  {
   "cell_type": "code",
   "execution_count": 55,
   "id": "8f06fdaa",
   "metadata": {},
   "outputs": [],
   "source": [
    "#convert this text to numeric\n",
    "input_mail1_features = feature_extraction.transform(input_mail1)\n",
    "input_mail2_features = feature_extraction.transform(input_mail2)"
   ]
  },
  {
   "cell_type": "code",
   "execution_count": 61,
   "id": "f4fa2a11",
   "metadata": {},
   "outputs": [
    {
     "name": "stdout",
     "output_type": "stream",
     "text": [
      "  (0, 44290)\t0.45693818045632917\n",
      "  (0, 43767)\t0.3071832850784587\n",
      "  (0, 43228)\t0.21719445758584774\n",
      "  (0, 36775)\t0.21719445758584774\n",
      "  (0, 30258)\t0.2992343199746608\n",
      "  (0, 26021)\t0.19082412020076533\n",
      "  (0, 21500)\t0.28751953875747943\n",
      "  (0, 19295)\t0.3139603458554902\n",
      "  (0, 13766)\t0.4968208388027072\n",
      "  (0, 2293)\t0.22016927780894374\n",
      "\n",
      "  (0, 41942)\t0.20551139722373377\n",
      "  (0, 40632)\t0.1708111548713923\n",
      "  (0, 35386)\t0.12311025897040584\n",
      "  (0, 34885)\t0.19721998266799587\n",
      "  (0, 33874)\t0.0879908544042539\n",
      "  (0, 33178)\t0.18892856811225794\n",
      "  (0, 26021)\t0.09558515803886385\n",
      "  (0, 24304)\t0.16636830871277097\n",
      "  (0, 23103)\t0.12481169096747904\n",
      "  (0, 21632)\t0.22245226137805102\n",
      "  (0, 18428)\t0.1611135370235147\n",
      "  (0, 17802)\t0.24886108917465458\n",
      "  (0, 11976)\t0.13979525568375661\n",
      "  (0, 7762)\t0.19491303574624677\n",
      "  (0, 6542)\t0.1625197403156544\n",
      "  (0, 5111)\t0.7465832675239638\n"
     ]
    }
   ],
   "source": [
    "print(input_mail1_features)\n",
    "print()\n",
    "print(input_mail2_features)"
   ]
  },
  {
   "cell_type": "code",
   "execution_count": 56,
   "id": "9f789883",
   "metadata": {},
   "outputs": [],
   "source": [
    "#prediction\n",
    "prediction1 = model.predict(input_mail1_features)\n",
    "prediction2 = model.predict(input_mail2_features)"
   ]
  },
  {
   "cell_type": "code",
   "execution_count": 53,
   "id": "5dc048e2",
   "metadata": {},
   "outputs": [
    {
     "name": "stdout",
     "output_type": "stream",
     "text": [
      "Spam mail\n"
     ]
    }
   ],
   "source": [
    "#print(prediction1)\n",
    "if prediction1[0] == 1:\n",
    "    print('Spam mail')\n",
    "else:\n",
    "    print('Ham mail')"
   ]
  },
  {
   "cell_type": "code",
   "execution_count": 57,
   "id": "a8afd033",
   "metadata": {},
   "outputs": [
    {
     "name": "stdout",
     "output_type": "stream",
     "text": [
      "Spam mail\n"
     ]
    }
   ],
   "source": [
    "if prediction2[0] == 1:\n",
    "    print('Spam mail')\n",
    "else:\n",
    "    print('Ham mail')"
   ]
  }
 ],
 "metadata": {
  "kernelspec": {
   "display_name": "Python 3 (ipykernel)",
   "language": "python",
   "name": "python3"
  },
  "language_info": {
   "codemirror_mode": {
    "name": "ipython",
    "version": 3
   },
   "file_extension": ".py",
   "mimetype": "text/x-python",
   "name": "python",
   "nbconvert_exporter": "python",
   "pygments_lexer": "ipython3",
   "version": "3.9.12"
  }
 },
 "nbformat": 4,
 "nbformat_minor": 5
}
